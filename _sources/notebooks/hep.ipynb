{
  "nbformat": 4,
  "nbformat_minor": 0,
  "metadata": {
    "colab": {
      "name": "Copy of high_energy_protons.ipynb",
      "provenance": [],
      "collapsed_sections": []
    },
    "kernelspec": {
      "name": "python3",
      "display_name": "Python 3"
    }
  },
  "cells": [
    {
      "cell_type": "markdown",
      "metadata": {
        "id": "sCI3cHcWnOA6"
      },
      "source": [
        "# High energy protons"
      ]
    },
    {
      "cell_type": "markdown",
      "metadata": {
        "id": "ilnoda7mneMA"
      },
      "source": [
        "## Summary\n",
        "\n",
        "Protons have a rest mass equivalent to an energy of around 938 MeV. As the proton is accelerated, due to special relativistic effects, their mass increases. In order to understand the physics at conditions close to the Big Bang, particle accelerators such as the Large Hadron Collider (LHC) accelerates protons and other charged particles close to the speed of light. For example in LHC, protons are accelerated to energies of 7 TeV, i.e. ~7000 times their rest mass. Due to this increase in their mass/energy their behaviour in a gravitational field will be modified. Here we study these effects as the proton's velocity approaches the speed of light. We extend this discussion to Planck energies and look at the feasibility of the universe having gone through a Planck epoch.\n"
      ]
    },
    {
      "cell_type": "code",
      "metadata": {
        "id": "dqNGz8l6WdF7",
        "cellView": "code"
      },
      "source": [
        "# Import relevant packages and constants\n",
        "import math\n",
        "import matplotlib.pyplot as plt\n",
        "import numpy as np\n",
        "from astropy import units as u\n",
        "from astropy.constants.si import c, G, m_p, m_e, e, eps0, h, hbar\n",
        "from astropy.cosmology import WMAP9 as cosmo\n",
        "# c   = speed of light\n",
        "# e   = charge of proton\n",
        "# eps0= Vacuum electric permittivity\n",
        "# G   =  universal gravatational constant\n",
        "# h   = Planck's constant\n",
        "# hbar= reduced Planck's constant\n",
        "# m_e =  rest mass of electron\n",
        "# m_p =  rest mass of proton"
      ],
      "execution_count": null,
      "outputs": []
    },
    {
      "cell_type": "markdown",
      "metadata": {
        "id": "-oOIDVcErGLh"
      },
      "source": [
        "## 1.Introduction\n",
        "The gravitational force between two protons of mass $m_p$ separated by a distance $r$ is given by the Newton's law as:\n",
        "\n",
        "$F_g = \\frac{G m_p^2}{r^2} \\quad (1)$\n",
        "\n",
        "For instance, two protons separated by a distance of 1 fm (typical nuclear scale) will experience a attractive force of $1.87 \\times 10^{-34} N$."
      ]
    },
    {
      "cell_type": "code",
      "metadata": {
        "id": "XebUd1um8d_D",
        "colab": {
          "base_uri": "https://localhost:8080/"
        },
        "outputId": "a1c0c4c1-babd-4d52-a77f-efe48bd6ab0f"
      },
      "source": [
        "# Let r be the separation of 1 fm \n",
        "r = (1*u.fm).to(u.m) \n",
        "# The Gravitational force Fg between two protons\n",
        "Fg = (G * m_p * m_p) / (r * r) \n",
        "print(f\"Gravitational force between two protons of mass {m_p:.2e} at a distance {r} = {Fg:.2e}\") "
      ],
      "execution_count": null,
      "outputs": [
        {
          "output_type": "stream",
          "text": [
            "Gravitational force between two protons of mass 1.67e-27 kg at a distance 1e-15 m = 1.87e-34 kg m / s2\n"
          ],
          "name": "stdout"
        }
      ]
    },
    {
      "cell_type": "markdown",
      "metadata": {
        "id": "KYQldi0cXgF3"
      },
      "source": [
        "This is beyond the experimental limit of force that can be detected, which is $10^{-24}$ N  [(Biercuk et al. 2010)](https://arxiv.org/abs/1004.0780v2).\n",
        "\n",
        "For the gravitational force between two particles at a distance of 1 fm to be equal to this observable limit, their mass has to be $1.22 \\times 10^{-22} kg$. For protons to have such a high mass they have to accelerated to higher speeds.\n",
        "\n"
      ]
    },
    {
      "cell_type": "code",
      "metadata": {
        "id": "jsfF9Xl8izDV",
        "colab": {
          "base_uri": "https://localhost:8080/"
        },
        "outputId": "6a18bcc8-ce1b-4e52-e121-fa7185e13ff3"
      },
      "source": [
        "# Let F_el be the experimental limit of detectable force\n",
        "F_el = (1e-24*u.N).decompose()\n",
        "# The mass at the experimental limit m_el\n",
        "m_el = ((F_el * r * r)/G)** 0.5\n",
        "print(f\"The mass of particles separated by a distance of {r} at the experimental detection limit = {m_el:.2e}\") "
      ],
      "execution_count": null,
      "outputs": [
        {
          "output_type": "stream",
          "text": [
            "The mass of particles separated by a distance of 1e-15 m at the experimental detection limit = 1.22e-22 kg\n"
          ],
          "name": "stdout"
        }
      ]
    },
    {
      "cell_type": "markdown",
      "metadata": {
        "id": "3i0_2DVAYQHQ"
      },
      "source": [
        "Another fundamental parameter associated with the proton is its charge. The electrostatic repulsive (Coulomb) force between two protons of charge $e$ separated by a distance $r$ is given by:\n",
        "\n",
        "$F_e = k_e \\frac{e^2}{r^2} \\quad (2)$\n",
        "\n",
        "where $k_e = 9\\times 10^{9} N m^2/C^2$ is the permitivity constant. In SI units, $F_e = 2.31 \\times 10^{2} C^2/(F m)$.\n"
      ]
    },
    {
      "cell_type": "code",
      "metadata": {
        "colab": {
          "base_uri": "https://localhost:8080/"
        },
        "id": "-Ok_eBdb1yTY",
        "outputId": "36b4941a-d6a7-4950-b8b4-30387ac4709e"
      },
      "source": [
        "# Let ke be the Coulomb constant and e the charge\n",
        "ke = 1/(4*np.pi*eps0) \n",
        "# The Coulomb force Fe between two protons:\n",
        "Fe = (ke * e.si * e.si) / (r * r) \n",
        "print(f\"Coulomb repulsive force between two protons of chrage {e.si:.2e} at a distance {r} = {Fe:.2e}\") "
      ],
      "execution_count": null,
      "outputs": [
        {
          "output_type": "stream",
          "text": [
            "Coulomb repulsive force between two protons of chrage 1.60e-19 C at a distance 1e-15 m = 2.31e+02 C2 / (F m)\n"
          ],
          "name": "stdout"
        }
      ]
    },
    {
      "cell_type": "markdown",
      "metadata": {
        "id": "iJIHB16o1N-J"
      },
      "source": [
        "The electrostatic force between two protons is 36 orders greaters than the gravitational force.\n",
        "\n",
        "For the Gravitation force to be equal to Coulomb force between two protons, i.e. $\\frac{G m_p^{'2}}{r^2}=\\frac{k_e e^2}{r^2}$, the mass of the proton should be\n",
        "\n",
        "$ m'_p=\\sqrt{\\frac{k_e e^2}{G}} = 1.86 \\times 10^{-9}\\quad(3)$ "
      ]
    },
    {
      "cell_type": "code",
      "metadata": {
        "id": "oaGHmVJC4bi0",
        "colab": {
          "base_uri": "https://localhost:8080/"
        },
        "outputId": "66a25fac-ee0c-4107-9eff-81caed7661ca"
      },
      "source": [
        "# Let mpp be the mass where Gravitational and elctrostatic force becomes equal\n",
        "mpp = np.sqrt((ke * e.si * e.si) / G )\n",
        "mpp = mpp.decompose()\n",
        "print(f\"Mass of proton when gravity balances electrostatic repulsion  = {mpp:.2e}\") "
      ],
      "execution_count": null,
      "outputs": [
        {
          "output_type": "stream",
          "text": [
            "Mass of proton when gravity balances electrostatic repulsion  = 1.86e-09 kg\n"
          ],
          "name": "stdout"
        }
      ]
    },
    {
      "cell_type": "markdown",
      "metadata": {
        "id": "g3WNLZkYYV4p"
      },
      "source": [
        "Due to special relativistic effcts, as a particle of rest mass ($m_0$) travels with a velocity ($v$) close to the speed of light ($c$), its mass increases by a factor $\\gamma$ given by:\n",
        "\n",
        "$\\gamma=\\frac{1}{\\sqrt(1-v^2/c^2)} \\quad(4)$\n",
        "\n",
        "The increased mass ($m$) is given by\n",
        "\n",
        "$m= \\gamma m_0 \\quad (5)$ "
      ]
    },
    {
      "cell_type": "markdown",
      "metadata": {
        "id": "6-KGptiwluMw"
      },
      "source": [
        "For instance at the limit of detection the mass of proton $10^{-22} kg$ corresponds to a $\\gamma$ of 73000."
      ]
    },
    {
      "cell_type": "markdown",
      "metadata": {
        "id": "Z_zAtocT8mDg"
      },
      "source": [
        "## 2. Relativistic effects"
      ]
    },
    {
      "cell_type": "markdown",
      "metadata": {
        "id": "WeYeyZwC8xXv"
      },
      "source": [
        "### Q 2.1 \n",
        "How does the mass of the proton increase as its velocity tends to $c$? "
      ]
    },
    {
      "cell_type": "markdown",
      "metadata": {
        "id": "f67imMW-9Kxk"
      },
      "source": [
        "For protons of rest mass $m_p$, the mass is given as $m'_p=\\gamma m_p$. From equations (4) & (5), we obtain the following expression for the velocity of high energy protons\n",
        "\n",
        "$v = c\\sqrt{1-(m_p/m_p')^2} \\quad(6)$ "
      ]
    },
    {
      "cell_type": "code",
      "metadata": {
        "id": "-MKV8ZUmXJXz",
        "colab": {
          "base_uri": "https://localhost:8080/",
          "height": 338
        },
        "outputId": "fd435841-af72-4a4c-c0bc-088ac9f9e9ce"
      },
      "source": [
        "# Calculating the mass (in GeV) as a function of velocity (in units of c)\n",
        "# Set the range and stepsize of velocity in units of c\n",
        "v = np.arange(start=0.99, stop=0.999, step=.0001)*c\n",
        "# Calculate the gamma factor and mass\n",
        "gamma = 1/(np.sqrt(1-(v*v)/(c*c)))\n",
        "mpp = m_p * gamma\n",
        "\n",
        "# Set the range and stepsize of mass in units of m_p\n",
        "mpv = np.arange(start=1000, stop=11000, step=100)*m_p\n",
        "# Calculate the velocity\n",
        "vv = c * np.sqrt(1 - (m_p/mpv)**2)\n",
        "\n",
        "# Make the plots\n",
        "fig, (ax1, ax2) = plt.subplots(1, 2,figsize=(10,5))\n",
        "#fig.suptitle('Variation with c')\n",
        "# Variation of proton mass with velocity\n",
        "ax1.plot(v/c, (mpp * c *c).to(u.GeV),lw=2,c='b')\n",
        "ax1.set_xlabel('v/c ')\n",
        "ax1.set_ylabel(\"$m_p'$ (GeV)\")\n",
        "ax1.grid(True)\n",
        "# Difference in proton speed and light speed as a fucntion of proton mass\n",
        "ax2.plot( (mpv * c *c).to(u.GeV),(c-vv),lw=2,c='red')\n",
        "ax2.set_xlabel(\"$m'_p$ (GeV)\")\n",
        "ax2.set_ylabel(\"c-v (m/s)\")\n",
        "ax2.grid(True)\n",
        "plt.show()"
      ],
      "execution_count": null,
      "outputs": [
        {
          "output_type": "display_data",
          "data": {
            "image/png": "[encoded data removed]",
            "text/plain": [
              "<Figure size 720x360 with 2 Axes>"
            ]
          },
          "metadata": {
            "tags": [],
            "needs_background": "light"
          }
        }
      ]
    },
    {
      "cell_type": "markdown",
      "metadata": {
        "id": "t_UnmfJk0eRV"
      },
      "source": [
        "### Q 2.2 \n",
        "Given the above difference in the speeds of the proton and light, what will be the separation between these high energy proton and photon after:\n",
        "\n",
        "\n",
        "1.   one year?\n",
        "2.   Hubble time?\n",
        "---\n",
        "Hubble time is the age of the universe ~ 13.8 Billion years, inverse of which gives the Hubble's constant $H_0$."
      ]
    },
    {
      "cell_type": "code",
      "metadata": {
        "id": "d8e2m_nY3hr_",
        "colab": {
          "base_uri": "https://localhost:8080/"
        },
        "outputId": "03008d84-56d5-409a-b594-811ea3d62ea5"
      },
      "source": [
        "# Table of c - v as a function of mass\n",
        "cmv = c - v\n",
        "# Calculate the separation over a year\n",
        "dist = cmv*u.year\n",
        "disty = dist.decompose() \n",
        "\n",
        "# Calculate the Hubble time\n",
        "t_h = 1/cosmo.H(0).decompose() \n",
        "print(f\"Hubble constant = {cosmo.H(0):.2f}\")\n",
        "print(f\"Hubble time = {t_h:.2e}\")\n",
        "print(\"-\"*60)\n",
        "sep = cmv*t_h\n",
        "seph = sep.decompose() \n",
        "\n",
        "print(\"   mp \\t\\t     c-v  \\t sep. (1yr)    sep. (Hubble)\")\n",
        "print(\"-\"*60)\n",
        "for i in range(0,len(cmv),10):\n",
        "  mpgev = (mpv * c *c).to(u.GeV)[i]\n",
        "  print(f\"{mpgev:8.2f} {cmv[i]:10.2}  {disty[i]:10.2} {seph[i]:10.2}\")"
      ],
      "execution_count": null,
      "outputs": [
        {
          "output_type": "stream",
          "text": [
            "Hubble constant = 69.32 km / (Mpc s)\n",
            "Hubble time = 4.45e+17 s\n",
            "------------------------------------------------------------\n",
            "   mp \t\t     c-v  \t sep. (1yr)    sep. (Hubble)\n",
            "------------------------------------------------------------\n",
            "  938.27 GeV      3e+06 m / s     9.5e+13 m    1.3e+24 m\n",
            " 1876.54 GeV    2.7e+06 m / s     8.5e+13 m    1.2e+24 m\n",
            " 2814.82 GeV    2.4e+06 m / s     7.6e+13 m    1.1e+24 m\n",
            " 3753.09 GeV    2.1e+06 m / s     6.6e+13 m    9.3e+23 m\n",
            " 4691.36 GeV    1.8e+06 m / s     5.7e+13 m      8e+23 m\n",
            " 5629.63 GeV    1.5e+06 m / s     4.7e+13 m    6.7e+23 m\n",
            " 6567.90 GeV    1.2e+06 m / s     3.8e+13 m    5.3e+23 m\n",
            " 7506.18 GeV      9e+05 m / s     2.8e+13 m      4e+23 m\n",
            " 8444.45 GeV      6e+05 m / s     1.9e+13 m    2.7e+23 m\n",
            " 9382.72 GeV      3e+05 m / s     9.5e+12 m    1.3e+23 m\n"
          ],
          "name": "stdout"
        }
      ]
    },
    {
      "cell_type": "markdown",
      "metadata": {
        "id": "iVpFbCmMrpbM"
      },
      "source": [
        "### Q 2.3\n",
        "What will be gamma factor and mass of the proton when the separation after Hubble time is Compton length? \n",
        "\n",
        "---\n",
        "\n",
        "The Compton wavelength ($\\lambda_c$) of a particle is same as the wavelength of a photon having the same energy as the mass (energy) of the particle and is given by:\n",
        "\n",
        "$\\lambda_c = \\frac{h}{m_p c} \\quad (7)$.\n",
        "\n",
        "Now we have:\n",
        "$(c-v)/H_0 = \\lambda_c \\quad (8)$,\n",
        "\n",
        "so the expression for $\\gamma$ then becomes:\n",
        "\n",
        "$\\gamma = \\left[1-(1-(\\lambda_c H_0/c)^2)^{-1/2}\\right] \\quad (9)$.\n",
        "\n",
        "Since $(\\lambda_c H_0/c)\\sim 10^{-41} << 1$, we can expand eqaution (9) binomially and neglect the higher order terms to get:\n",
        "\n",
        "$\\gamma = (2 \\lambda_c H_0 /c)^{-1/2} \\quad (10)$.\n"
      ]
    },
    {
      "cell_type": "code",
      "metadata": {
        "id": "GjDLNDravqGs",
        "colab": {
          "base_uri": "https://localhost:8080/"
        },
        "outputId": "95151681-f650-4e0e-a059-c07c1db1a370"
      },
      "source": [
        "# Calculate the Compton length of a proton\n",
        "cl = h/(m_p * c) \n",
        "print(f\"Compton Length = {cl.decompose():.2e}\")\n",
        "H0 = cosmo.H(0).decompose()\n",
        "#gamma at Compton Length\n",
        "gcl = (2*cl * H0 /c ) ** (-0.5) \n",
        "\n",
        "print(f\"Gamma factor at Compton Length = {gcl:.2e}\")\n",
        "print(f\"Proton mass at Compton Length = {gcl * m_p:.2e}\")\n",
        "\n",
        "# Calculate the Planck mass\n",
        "mpl = (hbar * c / G) ** 0.5\n",
        "print(f\"Plank mass = {mpl.decompose():.2e}\")"
      ],
      "execution_count": null,
      "outputs": [
        {
          "output_type": "stream",
          "text": [
            "Compton Length = 1.32e-15 m\n",
            "Gamma factor at Compton Length = 2.25e+20\n",
            "Proton mass at Compton Length = 3.76e-07 kg\n",
            "Plank mass = 2.18e-08 kg\n"
          ],
          "name": "stdout"
        }
      ]
    },
    {
      "cell_type": "markdown",
      "metadata": {
        "id": "tUDa7XBVQ2QU"
      },
      "source": [
        "Planck mass is a unit of mass in natural units given by \n",
        "$m_{pl} = \\sqrt{\\frac{\\hbar c}{G}} \\approx 2 \\times 10^{-8} kg \\quad (11)$.\n",
        "\n",
        "The proton mass when the separation over Hubble time becomes Compton length approaches the Planck mass."
      ]
    },
    {
      "cell_type": "markdown",
      "metadata": {
        "id": "kwu8nZiNSabC"
      },
      "source": [
        "## 3. Accelerating high energy protons"
      ]
    },
    {
      "cell_type": "markdown",
      "metadata": {
        "id": "pADMq6fON4ol"
      },
      "source": [
        "To accelerate these protons to such high energies,we need *Particle accelerators*, which are devices which use electromagnets to enhance their speeds. The most powerful accelerator is the Large Hadron Collider (LHC), which is a circular accelerator. To accelerate protons to such high energies, we need a linear accelerator, since in the case of a circular accelerator there is  energy loss due to synchrotron radiation. \n",
        "\n",
        "The most intense laser we have so far has an intensity $I \\sim 10^{26} W/m^2$. This intensity is related to the electric field $E$ as   \n",
        "\n",
        "$I = \\frac{1}{2} c\\epsilon_0E^2 \\quad (12)$,\n",
        "\n",
        "where $\\epsilon_0$ is the permittivity of free space. This  gives an electric field given by,\n",
        "$E \\sim 2.7 \\times 10^{14} V/m$.\n",
        "\n",
        "For a voltage of $\\sim 10^{28} V$, the linear accelerator powered by this electric field should have an arm length $l$ given by\n",
        "$l = V/E \\sim 4 \\times 10^{13} m$.\n",
        "\n",
        "To reduce the required arm lenght of the linear accelerator we need to increase the electric field strength. \n",
        "\n",
        "The maximum possible electric field strength will be that around a fundamental charge ($e=1.6\\times 10^{-19} C$) at a distance of 1 fm is given by\n",
        "\n",
        "$E_{max} = \\frac{ke}{(1 fm)^2} \\sim 10^{21} V/m \\quad (13)$\n",
        "\n",
        "The energy density of the laser is given by \n",
        "\n",
        "$\\epsilon = \\frac{e V}{l w^2} \\quad (14)$, \n",
        "\n",
        "where $w$ beam-width of the laser.\n",
        "\n",
        "\n",
        "\n"
      ]
    },
    {
      "cell_type": "markdown",
      "metadata": {
        "id": "7-C5Ebxaartj"
      },
      "source": [
        "### Q 3.1\n",
        "Calculate the energy density of the beam of width $10^{-7}~m$ (wavelength of the beam)."
      ]
    },
    {
      "cell_type": "code",
      "metadata": {
        "id": "BpOXvnCm2xDg",
        "colab": {
          "base_uri": "https://localhost:8080/"
        },
        "outputId": "15eaa63d-ce01-465b-c2f9-e938da279eb4"
      },
      "source": [
        "# Width of the beam (wavelength of the laser) w = 10^-7 m\n",
        "# Volume of the beam w^2 * l = 10^-7 m\n",
        "w = 1.e-7 *u.m \n",
        "vol =  w * w * V/Emax\n",
        "# Calculate the energy density\n",
        "ed = (e * V /vol).to(unit=u.J/u.m**3)\n",
        "print(f\"Volume of the beam = {vol:.2e}\")\n",
        "print(f\"Energy density of the beam = {ed:.2e}\")"
      ],
      "execution_count": null,
      "outputs": [
        {
          "output_type": "stream",
          "text": [
            "Volume of the beam = 1.21e-07 m3\n",
            "Energy density of the beam = 1.32e+16 J / m3\n"
          ],
          "name": "stdout"
        }
      ]
    },
    {
      "cell_type": "markdown",
      "metadata": {
        "id": "V2gIQoVVYg5q"
      },
      "source": [
        "### Q 3.2\n",
        "Calculate the arm length corresponding to this electric field.\n"
      ]
    },
    {
      "cell_type": "code",
      "metadata": {
        "id": "bX-Xto250Ppv",
        "colab": {
          "base_uri": "https://localhost:8080/"
        },
        "outputId": "402fbc7c-6599-4fdc-8d99-e45373e84d83"
      },
      "source": [
        "# I is the intensity of the laser\n",
        "I = 1.e26 *u.W/u.m**2 #W/m^2\n",
        "# The corresoinding electric field E\n",
        "E = (((2 * I ) / (c * eps0)) **.5).to(unit=u.V/u.m)\n",
        "print(f\"Electric field = {E:.2e}\")\n",
        "# The voltage V and arm length l\n",
        "V = 1.e28 *u.V\n",
        "l = V/E \n",
        "print(f\"Arm length = {l:.2e}\")\n",
        "Emax = ((1/(4 * math.pi * eps0)) * (e / cl ** 2)).to(unit=u.V/u.m)\n",
        "print(f\"Maximum electric field = {Emax:.2e}\")\n",
        "print(f\"Arm length for max E = {V/Emax:.2e}\")"
      ],
      "execution_count": null,
      "outputs": [
        {
          "output_type": "stream",
          "text": [
            "Electric field = 2.74e+14 V / m\n",
            "Arm length = 3.64e+13 m\n",
            "Maximum electric field = 8.25e+20 V / m\n",
            "Arm length for max E = 1.21e+07 m\n"
          ],
          "name": "stdout"
        }
      ]
    },
    {
      "cell_type": "markdown",
      "metadata": {
        "id": "tC_VA3b_PW7T"
      },
      "source": [
        "The arm length $l\\sim 10^{13} m$ is roughly 100 times the distance between the earth and the sun (100 Astronomical Units). \n",
        "\n",
        "A particle of charge $e$ moving with velocity $v$ moving in a magnetic field $B$ gets deflected due to the Lorentz force, tracing a circular path of radius\n",
        "\n",
        "$r = \\gamma \\frac{m v}{e B} \\quad (15)$.\n",
        "\n",
        "Since the arm length of these accelerators need to be quite large, the particles will be affected by the galactic magnetic field ($10^{-6} G$)\n",
        "\n"
      ]
    },
    {
      "cell_type": "markdown",
      "metadata": {
        "id": "XLmWalBXfW6M"
      },
      "source": [
        "### Q 3.3\n",
        "Calculate the radius of the high energy proton  in the galactic magnetic field at energies:\n",
        "\n",
        "a. at 7 TeV (LHC energies)\n",
        "\n",
        "b. at Planck energy.\n",
        "\n",
        "\n",
        "\n"
      ]
    },
    {
      "cell_type": "code",
      "metadata": {
        "id": "zJaAXMLU2ugM",
        "colab": {
          "base_uri": "https://localhost:8080/"
        },
        "outputId": "8d6607f3-dbec-4cc8-b168-78a2736f975a"
      },
      "source": [
        "# From equation (6)\n",
        "# vg: velocity as a function of gamma\n",
        "vg = lambda g: c*np.sqrt(1 - (1/g)**2)\n",
        "B = 10**(-10.)*u.T # in Tesla\n",
        "# rb: radius of the particle as a function of gamma\n",
        "rb = lambda g: (g * m_p) * vg(g) / (e * B )\n",
        "\n",
        "# Radius at LHC energy\n",
        "g1 = 7000.\n",
        "print(f\"Radius at LHC energy     = {rb(g1).decompose():.2e}\")\n",
        "\n",
        "# Radius at Planck energy\n",
        "g2 = 10**18. \n",
        "print(f\"Radius at Planck energy  = {rb(g2).decompose():.2e}\")"
      ],
      "execution_count": null,
      "outputs": [
        {
          "output_type": "stream",
          "text": [
            "Radius at LHC energy     = 2.19e+14 m\n",
            "Radius at Planck energy  = 3.13e+28 m\n"
          ],
          "name": "stdout"
        }
      ]
    },
    {
      "cell_type": "markdown",
      "metadata": {
        "id": "EP__doJX8xqO"
      },
      "source": [
        "Note: The radius at the LHC energy is one $10^6$ times smaller than that of the Milky Galaxy ($10^{20} m$), while at the Planck energy, it is $10^8$ times larger. \n",
        "\n",
        "Since the accerlerator required to produce Planck energies is untenable and not practical it is unlikely that we can test theories involving energy scales at Planck epoch."
      ]
    }
  ]
}