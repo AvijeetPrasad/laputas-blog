{
 "cells": [
  {
   "cell_type": "code",
   "execution_count": 1,
   "metadata": {
    "cellView": "code",
    "id": "dqNGz8l6WdF7"
   },
   "outputs": [],
   "source": [
    "# Import relevant packages and constants\n",
    "import math\n",
    "import matplotlib.pyplot as plt\n",
    "import numpy as np\n",
    "from astropy import units as u\n",
    "from astropy.constants.si import c, G, m_p, m_e, e, eps0, h, hbar\n",
    "from astropy.cosmology import WMAP9 as cosmo\n",
    "# c   = speed of light\n",
    "# e   = charge of proton\n",
    "# eps0= Vacuum electric permittivity\n",
    "# G   =  universal gravatational constant\n",
    "# h   = Planck's constant\n",
    "# hbar= reduced Planck's constant\n",
    "# m_e =  rest mass of electron\n",
    "# m_p =  rest mass of proton"
   ]
  },
  {
   "cell_type": "code",
   "execution_count": 2,
   "metadata": {
    "colab": {
     "base_uri": "https://localhost:8080/"
    },
    "id": "GXyL5eaJO8yt",
    "outputId": "cba71e4d-8765-456a-babb-df2b648aa608"
   },
   "outputs": [
    {
     "name": "stdout",
     "output_type": "stream",
     "text": [
      "Total mass without rotation = 1.86e-09 kg\n"
     ]
    }
   ],
   "source": [
    "# mtot1 = total mass without rotation\n",
    "mtot1 = e / np.sqrt(4*np.pi*eps0*G)\n",
    "mtot1 = mtot1.to(unit=u.kg)\n",
    "print(f\"Total mass without rotation = {mtot1:.2e}\")"
   ]
  },
  {
   "cell_type": "code",
   "execution_count": 3,
   "metadata": {
    "colab": {
     "base_uri": "https://localhost:8080/"
    },
    "id": "TGNeiF7HP2z-",
    "outputId": "2c86b272-bb40-41ec-b558-1b11326a5e77"
   },
   "outputs": [
    {
     "name": "stdout",
     "output_type": "stream",
     "text": [
      "Total mass with rotation = 2.18e-08 kg\n"
     ]
    }
   ],
   "source": [
    "# mtot2 = total mass with rotation\n",
    "mtot2 = np.sqrt((hbar * c / G) + (e**2/(4*np.pi*eps0*G)))\n",
    "mtot2 = mtot2.to(unit=u.kg)\n",
    "print(f\"Total mass with rotation = {mtot2:.2e}\")"
   ]
  },
  {
   "cell_type": "code",
   "execution_count": 4,
   "metadata": {
    "colab": {
     "base_uri": "https://localhost:8080/"
    },
    "id": "GjZEt5soMsWJ",
    "outputId": "bb5240d1-98a2-48fb-dcc9-72faf1b9be29"
   },
   "outputs": [
    {
     "name": "stdout",
     "output_type": "stream",
     "text": [
      "The average density = 3e-27 kg / m3\n"
     ]
    }
   ],
   "source": [
    "t_h = 1/cosmo.H(0).decompose() \n",
    "rho_av = 1/(8*math.pi*G*t_h**2)\n",
    "print(f\"The average density = {rho_av:0.2}\")"
   ]
  },
  {
   "cell_type": "code",
   "execution_count": 5,
   "metadata": {
    "colab": {
     "base_uri": "https://localhost:8080/"
    },
    "id": "CweK1YetPa2v",
    "outputId": "54b07486-afd9-4388-8e97-f17170069ee2"
   },
   "outputs": [
    {
     "name": "stdout",
     "output_type": "stream",
     "text": [
      "The interaction cross-sections are: \n",
      "strong: 1.2e+01\n",
      "weak  : 3.50e-06\n",
      "EM    :0.0064\n"
     ]
    }
   ],
   "source": [
    "# N: The total number of particles in the Universe\n",
    "N = 4.e78 \n",
    "# fpi : Pion constant ~ 14.\n",
    "fpi = ((np.sqrt(N) * G * m_p**2) / (hbar * c)).decompose() \n",
    "# fweak: Weak interaction constant is between 10^-6 and 10^-7\n",
    "fweak = ((np.sqrt(N) * G * m_e**2) / (hbar * c)).decompose() \n",
    "# alpinv : Fine structure constant = 1 / 137 \n",
    "alpinv = ((np.sqrt(N) * G * m_e*m_p) / (hbar * c)).decompose()  \n",
    "\n",
    "print(f\"The interaction cross-sections are: \\n\\\n",
    "strong: {fpi:0.2}\\nweak  : {fweak:0.2e}\\nEM    :{alpinv:0.2}\")"
   ]
  }
 ],
 "metadata": {
  "colab": {
   "collapsed_sections": [],
   "include_colab_link": true,
   "name": "dressed_mass.ipynb",
   "provenance": []
  },
  "kernelspec": {
   "display_name": "Python 3",
   "name": "python3"
  },
  "language_info": {
   "codemirror_mode": {
    "name": "ipython",
    "version": 3
   },
   "file_extension": ".py",
   "mimetype": "text/x-python",
   "name": "python",
   "nbconvert_exporter": "python",
   "pygments_lexer": "ipython3",
   "version": "3.8.5"
  }
 },
 "nbformat": 4,
 "nbformat_minor": 0
}