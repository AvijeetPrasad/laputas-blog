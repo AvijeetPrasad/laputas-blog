{
  "nbformat": 4,
  "nbformat_minor": 0,
  "metadata": {
    "colab": {
      "name": "dressed_mass.ipynb",
      "provenance": [],
      "collapsed_sections": [],
      "include_colab_link": true
    },
    "kernelspec": {
      "name": "python3",
      "display_name": "Python 3"
    }
  },
  "cells": [
    {
      "cell_type": "markdown",
      "metadata": {
        "id": "view-in-github",
        "colab_type": "text"
      },
      "source": [
        "<a href=\"https://colab.research.google.com/github/AvijeetPrasad/laputas/blob/main/notebooks/dressed_mass.ipynb\" target=\"_parent\"><img src=\"https://colab.research.google.com/assets/colab-badge.svg\" alt=\"Open In Colab\"/></a>"
      ]
    },
    {
      "cell_type": "markdown",
      "metadata": {
        "id": "sCI3cHcWnOA6"
      },
      "source": [
        "# Dressed mass and singularity"
      ]
    },
    {
      "cell_type": "markdown",
      "metadata": {
        "id": "x8gr20qB1uX8"
      },
      "source": [
        "## Summary:\n",
        "\n",
        "In classical theories, as the size of the particle tends to zero, the energies associated with the particle approached infinity. Here we look at how interaction can \"dress\" a particle giving a total mass different than its bare mass. As a consequence, we see that the size of the particle becoming zero does not cause its mass to become infinite. The Mach's principle takes into account interactions of all the particles in the universe to give the inertial mass.\n",
        "Using this idea, we can estimate the values of the interaction cross-sections of strong, weak, and electromagnetic forces. "
      ]
    },
    {
      "cell_type": "code",
      "metadata": {
        "id": "dqNGz8l6WdF7",
        "cellView": "code"
      },
      "source": [
        "# Import relevant packages and constants\n",
        "import math\n",
        "import matplotlib.pyplot as plt\n",
        "import numpy as np\n",
        "from astropy import units as u\n",
        "from astropy.constants.si import c, G, m_p, m_e, e, eps0, h, hbar\n",
        "from astropy.cosmology import WMAP9 as cosmo\n",
        "# c   = speed of light\n",
        "# e   = charge of proton\n",
        "# eps0= Vacuum electric permittivity\n",
        "# G   =  universal gravatational constant\n",
        "# h   = Planck's constant\n",
        "# hbar= reduced Planck's constant\n",
        "# m_e =  rest mass of electron\n",
        "# m_p =  rest mass of proton"
      ],
      "execution_count": 7,
      "outputs": []
    },
    {
      "cell_type": "markdown",
      "metadata": {
        "id": "xs2o-kEi-EBh"
      },
      "source": [
        "## 1. Introduction\r\n",
        "\r\n",
        "The bare mass ($m_0$) of an elementary particle is the limit of its mass as the scale of distance approaches zero or, equivalently, as the energy of a particle collision approaches infinity. In general we can write the experimentally observed mass of a particles as: \r\n",
        "\r\n",
        "$m = m_0 + \\delta_m \\quad (1)$,\r\n",
        "\r\n",
        "where $\\delta_m$ is the change in mass due to interaction. \r\n",
        "\r\n"
      ]
    },
    {
      "cell_type": "markdown",
      "metadata": {
        "id": "h0qNt1wUdBxr"
      },
      "source": [
        "## 2. Singularity\n",
        "\n",
        "As the size of a particle tends to zero the energy associated with the particle tends to infinity. For a charge $e$ of size $r$, its electromagnetic self energy is  $e^2 / 4\\pi \\epsilon_0 r$. This tends to infinity as $r \\rightarrow 0 $. Similarly for a particle of mass $m$ and size $r$, the gravitational self energy is given by $G m^2 / r$, which againtends to infinity as $r \\rightarrow 0 $.\n",
        "\n",
        "- For a particle of mass $m$ and charge $e$, the total mass can be written as:\n",
        "\n",
        "  $m_{tot} = m_0 + \\frac{e^2}{(4 \\pi \\epsilon_0  r c^2)} - \\frac{G m_{tot}^2}{(r c^2)} \\quad (2)$.\n",
        "\n",
        "  Here $G m^2$ behaves as the gravitational charge. Solving for $m_{tot}$ as $r \\rightarrow 0 $\n",
        "\n",
        "  $m_{tot} = \\frac{e}{\\sqrt{4 \\pi \\epsilon_0 G}} \\quad (3)$.\n",
        "\n",
        "  This holds true even in General Relativity (ADM mass). \n",
        "\n",
        "- Considering rotational energy equation (2) becomes:\n",
        "\n",
        "  $m_{tot} = m_0 + \\frac{e^2}{(4\\pi \\epsilon_0 r c^2)} - \\frac{G m_{tot}^2}{(r c^2)} + \\frac{\\hbar}{(rc)} \\quad (4)$\n",
        "\n",
        "  Solving for $m_{tot}$ as $r \\rightarrow 0 $\n",
        "\n",
        "  $m_{tot} = \\sqrt{\\frac{\\hbar c}{G} + \\frac{e^2}{4 \\pi \\epsilon_0 G}} \\quad (5)$.\n",
        "\n",
        "  From equations (3) and (5), we see that the bare mass does not appear in the expression as $r \\rightarrow 0$.\n",
        "\n",
        "  In classical model, as $r \\rightarrow 0 $, the mass tends to infinity. Here, by including the self-energy terms, we have avoided this singularity.\n",
        "\n",
        "- When gravity is as strong as the strong interaction (for which the coupling $\\left(\\frac{G m^2}{\\hbar c} \\sim 1 \\right)$, we get:\n",
        "\n",
        "  $m = \\sqrt{\\frac{\\hbar c}{G}} \\quad (6)$,\n",
        "\n",
        "  which is same as the Plank mass ($m_{pl}$).\n",
        "\n",
        "- With strong force $\\left(\\frac{g_s}{\\hbar c} \\approx 1 \\right)$, a similar analysis gives:\n",
        "\n",
        "  $m = \\frac{g_s}{\\sqrt{G}} \\quad (7)$,\n",
        "\n",
        "  where $g_s$ is the strong interaction charge.\n",
        "\n",
        "\n",
        "\n",
        "\n",
        "\n",
        "\n"
      ]
    },
    {
      "cell_type": "code",
      "metadata": {
        "id": "GXyL5eaJO8yt",
        "colab": {
          "base_uri": "https://localhost:8080/"
        },
        "outputId": "cba71e4d-8765-456a-babb-df2b648aa608"
      },
      "source": [
        "# mtot1 = total mass without rotation\n",
        "mtot1 = e / np.sqrt(4*np.pi*eps0*G)\n",
        "mtot1 = mtot1.to(unit=u.kg)\n",
        "print(f\"Total mass without rotation = {mtot1:.2e}\")"
      ],
      "execution_count": 8,
      "outputs": [
        {
          "output_type": "stream",
          "text": [
            "Total mass without rotation = 1.86e-09 kg\n"
          ],
          "name": "stdout"
        }
      ]
    },
    {
      "cell_type": "code",
      "metadata": {
        "id": "TGNeiF7HP2z-",
        "colab": {
          "base_uri": "https://localhost:8080/"
        },
        "outputId": "2c86b272-bb40-41ec-b558-1b11326a5e77"
      },
      "source": [
        "# mtot2 = total mass with rotation\n",
        "mtot2 = np.sqrt((hbar * c / G) + (e**2/(4*np.pi*eps0*G)))\n",
        "mtot2 = mtot2.to(unit=u.kg)\n",
        "print(f\"Total mass with rotation = {mtot2:.2e}\")"
      ],
      "execution_count": 9,
      "outputs": [
        {
          "output_type": "stream",
          "text": [
            "Total mass with rotation = 2.18e-08 kg\n"
          ],
          "name": "stdout"
        }
      ]
    },
    {
      "cell_type": "markdown",
      "metadata": {
        "id": "KxCWKaYpSs0g"
      },
      "source": [
        "### 2.1 Massive objects\n",
        "\n",
        "Similar arguments can be applied for massive objects. If they have a charge $e$ or rotation $\\hbar$, the mass will not tend to infinity as $r$ tends to zero. For example, in the case of the sun, with angular momentum $J$, as $r \\rightarrow 0$, the mass is given by (similar to equation (6)):\n",
        "\n",
        "$m = \\sqrt{\\frac{Jc}{G}} \\quad (8)$.\n",
        "\n",
        "This can be extended to all the matter in the universe collapsing to a zero size. The expression will remain the same even with relativistic mass ($\\gamma m_0$)."
      ]
    },
    {
      "cell_type": "markdown",
      "metadata": {
        "id": "drBXJTM-rKsS"
      },
      "source": [
        "### 2.2 Dressed mass\n",
        "\n",
        "The \"dressed\" mass of a particle is the total mass including that due to the self energy.\n",
        "\n",
        "- Particles with zero mass will have no charge, like photons for example, since they are not dressed by the interaction.\n",
        "\n",
        "- The smallest mass with the fundamental charge is the electron with a mass of $0.511 MeV$.\n",
        "\n",
        "- The proton which takes part in the strong interaction will be dressed by the strong force. Hence its mass is $\\approx 1900$ times the electron mass.\n",
        "\n",
        "- Since the weak interaction is about a million times weaker than elctromagentic the neutrino mass (dressed by the weak force) will be a million times smaller than the electron mass ($\\sim 1 eV$)."
      ]
    },
    {
      "cell_type": "markdown",
      "metadata": {
        "id": "TQWL2uT4Medg"
      },
      "source": [
        "## 3. Mach's principle\n",
        "\n",
        "Mach’s principle says that a particle’s inertia is due to some interaction of that particle with all the other masses in the universe. The mass of a single isolated particle in the universe cannot be measured, we need at least two particles. According to Mach's principle all the inertial mass is due to the background interaction.\n",
        "\n",
        "If the local mass $(m_{loc})$ is due to all the other masses ($M$) in the universe, and $r$ is the average radius of distant mass, then we have the equation:\n",
        "\n",
        "$m_{loc} = \\frac{G M m_{loc}}{r c^2} \\quad (9)$,\n",
        "\n",
        "where $M=\\frac{4}{3}\\pi\\rho_{avg} r^3$, where $\\rho_{avg}$ is the average density of the mass. Equation (9) implies $\\frac{G M}{r c^2}\\approx 1$. This could possibly explain why the value of $G$ is small, since $M$ is large.\n",
        "\n",
        "If the average size $r = R_H$, the Hubble radius, the equation (9) now becomes\n",
        "\n",
        "$8\\pi G \\rho_{av} T_H^2 \\approx 1 \\quad (10)$,\n",
        "\n",
        "where $T_H$ is the Hubble time.\n"
      ]
    },
    {
      "cell_type": "code",
      "metadata": {
        "id": "GjZEt5soMsWJ",
        "colab": {
          "base_uri": "https://localhost:8080/"
        },
        "outputId": "bb5240d1-98a2-48fb-dcc9-72faf1b9be29"
      },
      "source": [
        "t_h = 1/cosmo.H(0).decompose() \n",
        "rho_av = 1/(8*math.pi*G*t_h**2)\n",
        "print(f\"The average density = {rho_av:0.2}\")"
      ],
      "execution_count": 16,
      "outputs": [
        {
          "output_type": "stream",
          "text": [
            "The average density = 3e-27 kg / m3\n"
          ],
          "name": "stdout"
        }
      ]
    },
    {
      "cell_type": "markdown",
      "metadata": {
        "id": "vYpyEf7BQEe2"
      },
      "source": [
        "The gravitational charge is given by $Gm^2$. The basic masses are the proton and the electron, hence the three possibilites are: $G m_p^2$, $G m_e^2$ and $G m_p m_e$. \n",
        "If $N$ is the total number of particles in the universe, then the fluctuations in these masses can be given by:\n",
        "\n",
        "- $\\sqrt{N} G m_p^2/\\hbar c \\sim 11.8 \\quad (11a)$,\n",
        "\n",
        " which is analogous to the Pion constant (~14).\n",
        "\n",
        "- $\\sqrt{N} G m_e^2/\\hbar c \\sim 3.5 \\times 10^{-6} \\quad (11b)$,\n",
        "\n",
        " which is analogous to the Weak interaction constant.\n",
        "\n",
        "- $\\sqrt{N} G m_p m_e/\\hbar c \\sim 1/137 \\quad (11c)$,\n",
        "\n",
        "  which is analogous to the Fine-structure constant."
      ]
    },
    {
      "cell_type": "code",
      "metadata": {
        "id": "CweK1YetPa2v",
        "colab": {
          "base_uri": "https://localhost:8080/"
        },
        "outputId": "54b07486-afd9-4388-8e97-f17170069ee2"
      },
      "source": [
        "# N: The total number of particles in the Universe\n",
        "N = 4.e78 \n",
        "# fpi : Pion constant ~ 14.\n",
        "fpi = ((np.sqrt(N) * G * m_p**2) / (hbar * c)).decompose() \n",
        "# fweak: Weak interaction constant is between 10^-6 and 10^-7\n",
        "fweak = ((np.sqrt(N) * G * m_e**2) / (hbar * c)).decompose() \n",
        "# alpinv : Fine structure constant = 1 / 137 \n",
        "alpinv = ((np.sqrt(N) * G * m_e*m_p) / (hbar * c)).decompose()  \n",
        "\n",
        "print(f\"The interaction cross-sections are: \\n\\\n",
        "strong: {fpi:0.2}\\nweak  : {fweak:0.2e}\\nEM    :{alpinv:0.2}\")"
      ],
      "execution_count": 28,
      "outputs": [
        {
          "output_type": "stream",
          "text": [
            "The interaction cross-sections are: \n",
            "strong: 1.2e+01\n",
            "weak  : 3.50e-06\n",
            "EM    :0.0064\n"
          ],
          "name": "stdout"
        }
      ]
    }
  ]
}